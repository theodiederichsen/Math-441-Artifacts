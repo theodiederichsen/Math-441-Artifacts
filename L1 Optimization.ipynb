{
 "cells": [
  {
   "cell_type": "markdown",
   "id": "ce214260-3e2a-4bdb-a92c-d6c290361bb9",
   "metadata": {},
   "source": [
    "# L1 Optimization as LP"
   ]
  },
  {
   "cell_type": "markdown",
   "id": "685aa1f2-580f-4172-8b2e-536c75425de5",
   "metadata": {},
   "source": [
    "## This notebook is almost complete. I am looking for ideas on how to complete it best"
   ]
  },
  {
   "cell_type": "code",
   "execution_count": 3,
   "id": "5277c49b-431c-4882-8dd3-f7cfbf830450",
   "metadata": {},
   "outputs": [
    {
     "name": "stdout",
     "output_type": "stream",
     "text": [
      "\u001b[33mWARNING: Skipping /opt/conda/lib/python3.11/site-packages/nlopt-2.7.1.dist-info due to invalid metadata entry 'name'\u001b[0m\u001b[33m\n",
      "\u001b[0mCollecting cvxpy\n",
      "  Using cached cvxpy-1.4.2-cp311-cp311-manylinux_2_17_x86_64.manylinux2014_x86_64.whl.metadata (8.8 kB)\n",
      "Collecting osqp>=0.6.2 (from cvxpy)\n",
      "  Using cached osqp-0.6.5-cp311-cp311-manylinux_2_5_x86_64.manylinux1_x86_64.manylinux_2_17_x86_64.manylinux2014_x86_64.whl.metadata (1.8 kB)\n",
      "Collecting ecos>=2 (from cvxpy)\n",
      "  Using cached ecos-2.0.13-cp311-cp311-manylinux_2_17_x86_64.manylinux2014_x86_64.whl.metadata (8.0 kB)\n",
      "Collecting clarabel>=0.5.0 (from cvxpy)\n",
      "  Using cached clarabel-0.7.1-cp37-abi3-manylinux_2_17_x86_64.manylinux2014_x86_64.whl.metadata (4.6 kB)\n",
      "Collecting scs>=3.0 (from cvxpy)\n",
      "  Using cached scs-3.2.4.post1-cp311-cp311-manylinux_2_17_x86_64.manylinux2014_x86_64.whl.metadata (2.1 kB)\n",
      "Requirement already satisfied: numpy>=1.15 in /opt/conda/lib/python3.11/site-packages (from cvxpy) (1.26.2)\n",
      "Requirement already satisfied: scipy>=1.1.0 in /opt/conda/lib/python3.11/site-packages (from cvxpy) (1.11.4)\n",
      "Collecting pybind11 (from cvxpy)\n",
      "  Using cached pybind11-2.11.1-py3-none-any.whl.metadata (9.5 kB)\n",
      "Collecting qdldl (from osqp>=0.6.2->cvxpy)\n",
      "  Using cached qdldl-0.1.7.post0-cp311-cp311-manylinux_2_17_x86_64.manylinux2014_x86_64.whl.metadata (1.7 kB)\n",
      "Using cached cvxpy-1.4.2-cp311-cp311-manylinux_2_17_x86_64.manylinux2014_x86_64.whl (1.2 MB)\n",
      "Using cached clarabel-0.7.1-cp37-abi3-manylinux_2_17_x86_64.manylinux2014_x86_64.whl (1.3 MB)\n",
      "Using cached ecos-2.0.13-cp311-cp311-manylinux_2_17_x86_64.manylinux2014_x86_64.whl (221 kB)\n",
      "Using cached osqp-0.6.5-cp311-cp311-manylinux_2_5_x86_64.manylinux1_x86_64.manylinux_2_17_x86_64.manylinux2014_x86_64.whl (299 kB)\n",
      "Using cached scs-3.2.4.post1-cp311-cp311-manylinux_2_17_x86_64.manylinux2014_x86_64.whl (10.4 MB)\n",
      "Using cached pybind11-2.11.1-py3-none-any.whl (227 kB)\n",
      "Using cached qdldl-0.1.7.post0-cp311-cp311-manylinux_2_17_x86_64.manylinux2014_x86_64.whl (1.1 MB)\n",
      "\u001b[33mWARNING: Skipping /opt/conda/lib/python3.11/site-packages/nlopt-2.7.1.dist-info due to invalid metadata entry 'name'\u001b[0m\u001b[33m\n",
      "\u001b[0mInstalling collected packages: pybind11, scs, qdldl, ecos, clarabel, osqp, cvxpy\n",
      "Successfully installed clarabel-0.7.1 cvxpy-1.4.2 ecos-2.0.13 osqp-0.6.5 pybind11-2.11.1 qdldl-0.1.7.post0 scs-3.2.4.post1\n"
     ]
    }
   ],
   "source": [
    "!pip install cvxpy"
   ]
  },
  {
   "cell_type": "code",
   "execution_count": 26,
   "id": "8a0e0ee8-64ae-48e4-9104-2917353db060",
   "metadata": {},
   "outputs": [
    {
     "name": "stdout",
     "output_type": "stream",
     "text": [
      "\u001b[33mWARNING: Skipping /opt/conda/lib/python3.11/site-packages/nlopt-2.7.1.dist-info due to invalid metadata entry 'name'\u001b[0m\u001b[33m\n",
      "\u001b[0mCollecting ortools\n",
      "  Using cached ortools-9.9.3963-cp311-cp311-manylinux_2_17_x86_64.manylinux2014_x86_64.whl.metadata (2.9 kB)\n",
      "Collecting absl-py>=2.0.0 (from ortools)\n",
      "  Using cached absl_py-2.1.0-py3-none-any.whl.metadata (2.3 kB)\n",
      "Requirement already satisfied: numpy>=1.13.3 in /opt/conda/lib/python3.11/site-packages (from ortools) (1.26.2)\n",
      "Requirement already satisfied: pandas>=2.0.0 in /opt/conda/lib/python3.11/site-packages (from ortools) (2.1.4)\n",
      "Collecting protobuf>=4.25.3 (from ortools)\n",
      "  Using cached protobuf-4.25.3-cp37-abi3-manylinux2014_x86_64.whl.metadata (541 bytes)\n",
      "Collecting immutabledict>=3.0.0 (from ortools)\n",
      "  Using cached immutabledict-4.2.0-py3-none-any.whl.metadata (3.4 kB)\n",
      "Requirement already satisfied: python-dateutil>=2.8.2 in /opt/conda/lib/python3.11/site-packages (from pandas>=2.0.0->ortools) (2.8.2)\n",
      "Requirement already satisfied: pytz>=2020.1 in /opt/conda/lib/python3.11/site-packages (from pandas>=2.0.0->ortools) (2023.3.post1)\n",
      "Requirement already satisfied: tzdata>=2022.1 in /opt/conda/lib/python3.11/site-packages (from pandas>=2.0.0->ortools) (2023.3)\n",
      "Requirement already satisfied: six>=1.5 in /opt/conda/lib/python3.11/site-packages (from python-dateutil>=2.8.2->pandas>=2.0.0->ortools) (1.16.0)\n",
      "Using cached ortools-9.9.3963-cp311-cp311-manylinux_2_17_x86_64.manylinux2014_x86_64.whl (24.8 MB)\n",
      "Using cached absl_py-2.1.0-py3-none-any.whl (133 kB)\n",
      "Using cached immutabledict-4.2.0-py3-none-any.whl (4.7 kB)\n",
      "Using cached protobuf-4.25.3-cp37-abi3-manylinux2014_x86_64.whl (294 kB)\n",
      "\u001b[33mWARNING: Skipping /opt/conda/lib/python3.11/site-packages/nlopt-2.7.1.dist-info due to invalid metadata entry 'name'\u001b[0m\u001b[33m\n",
      "\u001b[0mInstalling collected packages: protobuf, immutabledict, absl-py, ortools\n",
      "  Attempting uninstall: protobuf\n",
      "\u001b[33m    WARNING: Skipping /opt/conda/lib/python3.11/site-packages/nlopt-2.7.1.dist-info due to invalid metadata entry 'name'\u001b[0m\u001b[33m\n",
      "\u001b[0m    Found existing installation: protobuf 4.24.4\n",
      "    Uninstalling protobuf-4.24.4:\n",
      "      Successfully uninstalled protobuf-4.24.4\n",
      "Successfully installed absl-py-2.1.0 immutabledict-4.2.0 ortools-9.9.3963 protobuf-4.25.3\n"
     ]
    }
   ],
   "source": [
    "!pip install ortools"
   ]
  },
  {
   "cell_type": "code",
   "execution_count": 4,
   "id": "f5bffb41-ae17-4af5-ac24-31cd7d65a7fa",
   "metadata": {},
   "outputs": [],
   "source": [
    "import numpy as np\n",
    "from scipy.optimize import linprog\n",
    "import matplotlib.pyplot as plt\n",
    "import cvxpy as cp\n",
    "\n",
    "# np.random.seed(123)"
   ]
  },
  {
   "cell_type": "markdown",
   "id": "41615286-87ea-4a10-ab2b-29a9dda023b9",
   "metadata": {},
   "source": [
    "### Overdetermined Systems\n",
    "\n",
    "Suppose $A$ is $m \\times n$ where $m > n$. Then we say $A \\mathbf{x} = \\mathbf{b}$ is overdetermined. There are more equations than variables and so there is (most likely) no solution. What do we do? Find a vector $\\mathbf{x}$ that is close enough. If we use the 2-norm (see [Wikipedia: Norm](https://en.wikipedia.org/wiki/Norm_(mathematics)#p-norm)). This is the usual least squares: minimize $\\| \\mathbf{b} - A \\mathbf{x} \\|_2$.\n",
    "\n",
    "But we can use other notions of \"close enough\" such as the 1-norm: minimize $\\| A \\mathbf{x} - \\mathbf{b} \\|_1$. This is a LP problem because the following problems are equivalent:\n",
    "\n",
    "1. Minimize $\\| A \\mathbf{x} - \\mathbf{b} \\|_1$.\n",
    "2. Minimize $\\sum_n t_n$ subject to $-\\mathbf{t} \\leq A \\mathbf{x} - \\mathbf{b} \\leq \\mathbf{t}$, $\\mathbf{t} \\geq 0$.\n",
    "\n",
    "### Underdetermined Systems\n",
    "\n",
    "Suppose $A$ is $m \\times n$ where $m < n$. Then we say $A \\mathbf{x} = \\mathbf{b}$ is underdetermined. There are more variables than equations and so there is (most likely) infinitely many solutions. So what do we do? Find a solution $\\mathbf{x}$ which minmizes a cost. If we choose th 1-norm then the result will more likely be sparse vectors (ie. vectors where most entries are 0)."
   ]
  },
  {
   "cell_type": "markdown",
   "id": "1b213242-a69f-4ecf-aff6-23aef5b80fda",
   "metadata": {},
   "source": [
    "## L1 Regression\n",
    "\n",
    "### Linear Regression\n",
    "\n",
    "The following are equivalent:\n",
    "\n",
    "1. Minimize $\\| \\mathbf{x} \\|_1$ subject to $A \\mathbf{x} = \\mathbf{b}$.\n",
    "2. Minimize $\\sum_n t_n$ subject to $A \\mathbf{x} = \\mathbf{b}$, $-\\mathbf{t} \\leq \\mathbf{x} \\leq \\mathbf{t}$, $\\mathbf{t} \\geq 0$.\n",
    "\n",
    "Find $c_0$ and $c_1$ minimimize\n",
    "\n",
    "$$\n",
    "\\sum_{n=0}^{N-1} | y_n - (c_0 + c_1 x_n) | = \\| \\mathbf{y} - A \\mathbf{c} \\|_1\n",
    "$$\n",
    "\n",
    "Coefficients are given by the solution of the LP problem: minimize $\\sum_n t_n$ subject to $- \\mathbf{t} \\leq \\mathbf{y} - A\\mathbf{c} \\leq \\mathbf{t}$, $\\mathbf{t} \\geq 0$.\n",
    "\n",
    "Note that $\\mathbf{y} - A\\mathbf{c} \\leq \\mathbf{t}$ and $-\\mathbf{t} \\leq \\mathbf{y} - A\\mathbf{c}$ can be written as\n",
    "\n",
    "$$\n",
    "-\\mathbf{t} - A\\mathbf{c} \\leq - \\mathbf{y}\n",
    "$$\n",
    "\n",
    "$$\n",
    "-\\mathbf{t} + A\\mathbf{c} \\leq \\mathbf{y}\n",
    "$$\n",
    "\n",
    "$$\n",
    "\\begin{bmatrix} -I & -A \\\\ -I & A \\end{bmatrix}\n",
    "\\begin{bmatrix} \\mathbf{t} \\\\ \\mathbf{c} \\end{bmatrix}\n",
    "=\n",
    "\\begin{bmatrix} -\\mathbf{y} \\\\ \\mathbf{y} \\end{bmatrix}\n",
    "$$"
   ]
  },
  {
   "cell_type": "code",
   "execution_count": 5,
   "id": "e157dafc-fbba-44bb-9207-2f9b196eb244",
   "metadata": {},
   "outputs": [
    {
     "data": {
      "image/png": "[encoded data removed]",
      "text/plain": [
       "<Figure size 640x480 with 1 Axes>"
      ]
     },
     "metadata": {},
     "output_type": "display_data"
    }
   ],
   "source": [
    "N = 100\n",
    "x = np.random.uniform(-1, 1, N)\n",
    "c0 = 1\n",
    "c1 = 2\n",
    "error = np.random.rand(N)-.5\n",
    "y = c0 + c1*x + error\n",
    "plt.scatter(x,y,s=2)\n",
    "plt.grid(True)\n",
    "plt.show()"
   ]
  },
  {
   "cell_type": "code",
   "execution_count": 6,
   "id": "0fb891da-fa35-46ba-9184-5e8028d539e0",
   "metadata": {},
   "outputs": [
    {
     "data": {
      "text/plain": [
       "array([[ 1.        , -0.63418546],\n",
       "       [ 1.        ,  0.25087608],\n",
       "       [ 1.        ,  0.3795731 ],\n",
       "       [ 1.        ,  0.16652867],\n",
       "       [ 1.        ,  0.71723463]])"
      ]
     },
     "execution_count": 6,
     "metadata": {},
     "output_type": "execute_result"
    }
   ],
   "source": [
    "A = np.vander(x,N=2,increasing=True)\n",
    "A[:5,:]"
   ]
  },
  {
   "cell_type": "markdown",
   "id": "fda65a0b-650d-4948-a29f-9d258bfea013",
   "metadata": {},
   "source": [
    "Compute least squares linear regression:"
   ]
  },
  {
   "cell_type": "code",
   "execution_count": 7,
   "id": "db2653d3-2b2e-49b2-8805-53c4c0d8cf87",
   "metadata": {},
   "outputs": [],
   "source": [
    "c = np.linalg.solve(A.T@A,A.T@y)"
   ]
  },
  {
   "cell_type": "code",
   "execution_count": 8,
   "id": "81fe3f80-d783-47f8-9e48-36a1b81a31e5",
   "metadata": {},
   "outputs": [
    {
     "data": {
      "text/plain": [
       "array([1.00638476, 1.9757995 ])"
      ]
     },
     "execution_count": 8,
     "metadata": {},
     "output_type": "execute_result"
    }
   ],
   "source": [
    "c"
   ]
  },
  {
   "cell_type": "code",
   "execution_count": 9,
   "id": "c0ad113b-2f4b-4962-a969-5a48d4c957a6",
   "metadata": {},
   "outputs": [],
   "source": [
    "B = np.block([[-np.eye(N),-A],[-np.eye(N),A]])\n",
    "b = np.hstack([-y,y]).reshape((2*N,1))"
   ]
  },
  {
   "cell_type": "code",
   "execution_count": 10,
   "id": "94763464-8230-40ac-ae68-8f82fdc2b1f5",
   "metadata": {},
   "outputs": [],
   "source": [
    "obj = np.hstack([np.ones(N),np.zeros(2)]).reshape((N+2))\n",
    "\n",
    "obj = obj/(N+3)"
   ]
  },
  {
   "cell_type": "code",
   "execution_count": 11,
   "id": "9567ae99-f641-4bd9-af54-19c32b91ae88",
   "metadata": {},
   "outputs": [],
   "source": [
    "result = linprog(obj,A_ub=B,b_ub=b)"
   ]
  },
  {
   "cell_type": "code",
   "execution_count": 12,
   "id": "a4574e72-46b6-49c6-b755-3c8d350f001f",
   "metadata": {},
   "outputs": [
    {
     "data": {
      "text/plain": [
       "array([ 0.27,  0.  ,  0.13,  0.15,  0.31,  0.24,  0.12,  0.25,  0.37,\n",
       "        0.43,  0.1 ,  0.46,  0.21,  0.34,  0.05,  0.07,  0.12,  0.28,\n",
       "        0.25,  0.35,  0.05,  0.45,  0.39,  0.33,  0.02,  0.38,  0.08,\n",
       "        0.31,  0.29,  0.23,  0.1 ,  0.39,  0.16,  0.33,  0.43,  0.04,\n",
       "        0.05,  0.15,  0.41,  0.19,  0.39,  0.36,  0.32,  0.31,  0.41,\n",
       "        0.3 ,  0.47,  0.37,  0.32,  0.35,  0.31,  0.1 ,  0.19,  0.2 ,\n",
       "        0.29,  0.4 ,  0.39,  0.17,  0.07,  0.04,  0.55,  0.05,  0.53,\n",
       "        0.28,  0.42,  0.  ,  0.38,  0.2 ,  0.52,  0.11,  0.32,  0.19,\n",
       "        0.31,  0.09,  0.33,  0.16,  0.22,  0.2 ,  0.42,  0.24,  0.07,\n",
       "        0.23,  0.11,  0.26,  0.44,  0.32,  0.28,  0.31,  0.07,  0.03,\n",
       "        0.41,  0.3 , -0.  ,  0.41,  0.32,  0.23,  0.38,  0.41,  0.08,\n",
       "        0.25,  0.99,  1.94])"
      ]
     },
     "execution_count": 12,
     "metadata": {},
     "output_type": "execute_result"
    }
   ],
   "source": [
    "np.round(result.x,2)"
   ]
  },
  {
   "cell_type": "markdown",
   "id": "1930e91f-07ed-4525-b0f8-b965d1ce1a3c",
   "metadata": {},
   "source": [
    "What are we missing? The bounds are different for $\\mathbf{t}$ and $\\mathbf{c}$."
   ]
  },
  {
   "cell_type": "code",
   "execution_count": 13,
   "id": "b7d5f9a5-00ab-404f-96d5-54771b8bb571",
   "metadata": {},
   "outputs": [],
   "source": [
    "bounds = [(0,None) for _ in range(N)] + [(None,None),(None,None)]"
   ]
  },
  {
   "cell_type": "code",
   "execution_count": 14,
   "id": "1b947eb0-5924-4f48-85ce-993178e54b40",
   "metadata": {},
   "outputs": [],
   "source": [
    "result = linprog(obj,A_ub=B,b_ub=b,bounds=bounds)"
   ]
  },
  {
   "cell_type": "code",
   "execution_count": 15,
   "id": "c2779884-a2e8-48e7-aeee-22166c25212c",
   "metadata": {},
   "outputs": [
    {
     "data": {
      "text/plain": [
       "array([ 0.27,  0.  ,  0.13,  0.15,  0.31,  0.24,  0.12,  0.25,  0.37,\n",
       "        0.43,  0.1 ,  0.46,  0.21,  0.34,  0.05,  0.07,  0.12,  0.28,\n",
       "        0.25,  0.35,  0.05,  0.45,  0.39,  0.33,  0.02,  0.38,  0.08,\n",
       "        0.31,  0.29,  0.23,  0.1 ,  0.39,  0.16,  0.33,  0.43,  0.04,\n",
       "        0.05,  0.15,  0.41,  0.19,  0.39,  0.36,  0.32,  0.31,  0.41,\n",
       "        0.3 ,  0.47,  0.37,  0.32,  0.35,  0.31,  0.1 ,  0.19,  0.2 ,\n",
       "        0.29,  0.4 ,  0.39,  0.17,  0.07,  0.04,  0.55,  0.05,  0.53,\n",
       "        0.28,  0.42,  0.  ,  0.38,  0.2 ,  0.52,  0.11,  0.32,  0.19,\n",
       "        0.31,  0.09,  0.33,  0.16,  0.22,  0.2 ,  0.42,  0.24,  0.07,\n",
       "        0.23,  0.11,  0.26,  0.44,  0.32,  0.28,  0.31,  0.07,  0.03,\n",
       "        0.41,  0.3 , -0.  ,  0.41,  0.32,  0.23,  0.38,  0.41,  0.08,\n",
       "        0.25,  0.99,  1.94])"
      ]
     },
     "execution_count": 15,
     "metadata": {},
     "output_type": "execute_result"
    }
   ],
   "source": [
    "np.round(result.x,2)"
   ]
  },
  {
   "cell_type": "code",
   "execution_count": 16,
   "id": "c9043244-afb5-4d28-b50f-e8a93291930b",
   "metadata": {},
   "outputs": [
    {
     "data": {
      "image/png": "[encoded data removed]",
      "text/plain": [
       "<Figure size 640x480 with 1 Axes>"
      ]
     },
     "metadata": {},
     "output_type": "display_data"
    }
   ],
   "source": [
    "###### should use the same data as generated earlier, rather than re-generate new data ######\n",
    "# N = 100\n",
    "# x = np.random.uniform(-1, 1, N)\n",
    "# c0 = 1\n",
    "# c1 = 2\n",
    "# error = np.random.rand(N)-.5\n",
    "# y = c0 + c1*x + error\n",
    "\n",
    "# Plot the scatter plot\n",
    "plt.scatter(x, y, s=2, label='Data')\n",
    "\n",
    "# Plot the line y = c0 + c1*x\n",
    "c0 = result.x[-2]\n",
    "c1 = result.x[-1]\n",
    "x_range = np.linspace(-1, 1, 100)  # Define the range of x values\n",
    "y_line = c0 + c1*x_range  # Compute the corresponding y values\n",
    "plt.plot(x_range, y_line, color='red', label='Fitted Line')\n",
    "\n",
    "# Add labels to the axes\n",
    "plt.xlabel('X-axis')\n",
    "plt.ylabel('Y-axis')\n",
    "\n",
    "# Add a title to the plot\n",
    "plt.title('L1-Linear Regression')\n",
    "\n",
    "# Add a legend\n",
    "plt.legend()\n",
    "\n",
    "# Display the plot\n",
    "plt.grid(True)\n",
    "plt.show()"
   ]
  },
  {
   "cell_type": "markdown",
   "id": "86c89991-564c-45e2-b753-3b4d2f6202bf",
   "metadata": {},
   "source": [
    "## Polynomial Regression\n",
    "\n",
    "Let us look at a data set which does not have a linear relationship. \n",
    "\n",
    "Given data points \n",
    "\n",
    "$$\n",
    "(x_1,y_1), \\dots , (x_n,y_n), x_i , y_i \\in \\mathbb{R}, i = 1, \\dots , n\n",
    "$$\n",
    "\n",
    "Find a function of the form \n",
    "\n",
    "$$\n",
    "f(x) = c_2x^2 + c_1 x + c_0, \\ \\text{ here } \\ c_2,c_1,c_0 \\ \\text{are to be determined}\n",
    "$$\n",
    "\n",
    "which fits the data, minimizing the average loss\n",
    "\n",
    "\\begin{align*}\n",
    "\\min_{c_2,c_1,c_0 \\in \\mathbb{R}} \\frac{1}{n} \\sum_{i=1}^n |y_i - f(x_i)| \\\\\n",
    "\\min_{c_2,c_1,c_0 \\in \\mathbb{R}} \\frac{1}{n} \\sum_{i=1}^n |y_i - (c_2x^2_i + c_1x_i + c_0)| \n",
    "\\end{align*}\n",
    "\n",
    "Let us generate this data randomly"
   ]
  },
  {
   "cell_type": "code",
   "execution_count": 17,
   "id": "fbad1576-4308-4695-a3bf-7299958166da",
   "metadata": {},
   "outputs": [
    {
     "data": {
      "image/png": "[encoded data removed]",
      "text/plain": [
       "<Figure size 640x480 with 1 Axes>"
      ]
     },
     "metadata": {},
     "output_type": "display_data"
    }
   ],
   "source": [
    "N = 100\n",
    "x = np.random.uniform(-1, 1, N)\n",
    "c0 = 1\n",
    "c1 = 2\n",
    "c2 = 10\n",
    "error = 2*np.random.rand(N)-1\n",
    "\n",
    "y = c0 + c1*x + c2*x**2+error\n",
    "plt.scatter(x,y,s=2)\n",
    "plt.grid(True)\n",
    "plt.show()"
   ]
  },
  {
   "cell_type": "markdown",
   "id": "7c1c0c52-552b-4610-8c9c-4efc21652355",
   "metadata": {},
   "source": [
    "Let \n",
    "\n",
    "$$\n",
    "z_i = |y_i - (c_2 x_i^2 + c_1x_i + c_0)|\n",
    "$$\n",
    "\n",
    "In linear progrmming formulation, we get:\n",
    "\n",
    "$$\n",
    "\\begin{cases}\n",
    "\\min & \\frac{1}{n}\\sum_{i=1}^n z_i & \\\\ \n",
    "\\text{subject to } & |y_i - (c_2 x_i^2 + c_1x_i + c_0)| \\leqslant z_i, & i = 1, \\dots , n \\\\\n",
    "& c_0,c_1,c_2 \\in \\mathbb{R}, z_1,\\dots,z_n \\geqslant 0 &\n",
    "\\end{cases}\n",
    "$$\n",
    "\n",
    "$$\n",
    "\\implies \\begin{cases}\n",
    "\\min & \\frac{1}{n}\\sum_{i=1}^n z_i & \\\\ \n",
    "\\text{subject to } & y_i - (c_2 x_i^2 + c_1x_i + c_0) \\leqslant z_i, & i = 1, \\dots , n \\\\\n",
    "& (c_2 x_i^2 + c_1x_i + c_0) - y_i \\leqslant z_i, & i = 1, \\dots , n \\\\\n",
    "& c_0,c_1,c_2 \\in \\mathbb{R}, z_1,\\dots,z_n \\geqslant 0 &\n",
    "\\end{cases}\n",
    "$$\n",
    "\n",
    "$$\n",
    "\\implies \\begin{cases}\n",
    "\\min & \\frac{1}{n}\\sum_{i=1}^n z_i & \\\\ \n",
    "\\text{subject to } & -c_2 x_i^2 -c_1x_i -c_2 - z_i \\leqslant -y_i, & i = 1, \\dots , n \\\\\n",
    "& (c_2 x_i^2 + c_1x_i + c_0) - z_i \\leqslant y_i, & i = 1, \\dots , n \\\\\n",
    "& c_0,c_1,c_2 \\in \\mathbb{R}, z_1,\\dots,z_n \\geqslant 0 &\n",
    "\\end{cases}\n",
    "$$"
   ]
  },
  {
   "cell_type": "markdown",
   "id": "be6d2a24-6587-45a6-8415-0286c158e98d",
   "metadata": {},
   "source": [
    "Rewriting the constraints in matrix form we get:\n",
    "\n",
    "$$\n",
    "\\begin{bmatrix}\n",
    "-1 & & &-1 & - x_1 & -x_1^2 \\\\\n",
    "  & \\ddots &  & \\dots & \\dots & \\dots \\\\\n",
    "   &  & -1 &-1 & - x_n & -x_n^2 \\\\\n",
    "  -1 &  &  & 1 & x_1 & x_1^2 \\\\\n",
    "  & \\ddots &  & \\dots & \\dots & \\dots \\\\\n",
    "  &  & -1 & 1 & x_n & x_n^2 \\\\\n",
    "\\end{bmatrix}\n",
    "\\begin{bmatrix} z_1 \\\\ \\vdots \\\\ z_n \\\\ c_2 \\\\ c_1 \\\\ c_0 \\end{bmatrix}\n",
    "=\n",
    "\\begin{bmatrix} -I & -A \\\\ -I & A \\end{bmatrix}\n",
    "\\begin{bmatrix} \\mathbf{t} \\\\ \\mathbf{c} \\end{bmatrix}\n",
    "\\leqslant\n",
    "\\begin{bmatrix} -\\mathbf{y} \\\\ \\mathbf{y} \\end{bmatrix}\n",
    "$$"
   ]
  },
  {
   "cell_type": "code",
   "execution_count": 18,
   "id": "2270876f-cb1f-4c6e-ac54-40dafdf717a2",
   "metadata": {},
   "outputs": [
    {
     "data": {
      "text/plain": [
       "array([[ 1.        ,  0.28859428,  0.08328666],\n",
       "       [ 1.        , -0.7787462 ,  0.60644564],\n",
       "       [ 1.        , -0.96086814,  0.92326758],\n",
       "       [ 1.        ,  0.13662499,  0.01866639],\n",
       "       [ 1.        , -0.45736145,  0.2091795 ]])"
      ]
     },
     "execution_count": 18,
     "metadata": {},
     "output_type": "execute_result"
    }
   ],
   "source": [
    "A = np.vander(x,N=3,increasing=True)\n",
    "A[:5,:]"
   ]
  },
  {
   "cell_type": "code",
   "execution_count": 19,
   "id": "525e5bdb-0b72-4740-b683-23b75331116d",
   "metadata": {},
   "outputs": [],
   "source": [
    "c = np.linalg.solve(A.T@A,A.T@y)"
   ]
  },
  {
   "cell_type": "code",
   "execution_count": 20,
   "id": "377194c9-17c6-4fcc-85e2-21085cd3ab3a",
   "metadata": {},
   "outputs": [
    {
     "data": {
      "text/plain": [
       "array([ 0.98801251,  2.03183912, 10.19338835])"
      ]
     },
     "execution_count": 20,
     "metadata": {},
     "output_type": "execute_result"
    }
   ],
   "source": [
    "c"
   ]
  },
  {
   "cell_type": "code",
   "execution_count": 21,
   "id": "45eabe2b-1d26-41dd-8905-48af238fd205",
   "metadata": {},
   "outputs": [],
   "source": [
    "B = np.block([[-np.eye(N),-A],[-np.eye(N),A]])\n",
    "b = np.hstack([-y,y]).reshape((2*N,1))"
   ]
  },
  {
   "cell_type": "code",
   "execution_count": 22,
   "id": "21282ea6-a5a5-4557-8c50-f37e452266ed",
   "metadata": {},
   "outputs": [],
   "source": [
    "obj = np.hstack([np.ones(N),np.zeros(3)]).reshape((N+3))\n",
    "\n",
    "obj = obj/(N+3)"
   ]
  },
  {
   "cell_type": "code",
   "execution_count": 23,
   "id": "0a73193d-9839-4e6e-b57d-df53998d2a1b",
   "metadata": {},
   "outputs": [],
   "source": [
    "result = linprog(obj,A_ub=B,b_ub=b)"
   ]
  },
  {
   "cell_type": "code",
   "execution_count": 24,
   "id": "44c62513-d9ec-4709-8673-33e91c82c606",
   "metadata": {},
   "outputs": [
    {
     "name": "stdout",
     "output_type": "stream",
     "text": [
      "solution by linprog:\n",
      "c0=0.8531061311988919, c1=2.1419113966159045, c2=10.560342518244724\n",
      "\n"
     ]
    },
    {
     "data": {
      "image/png": "[encoded data removed]",
      "text/plain": [
       "<Figure size 640x480 with 1 Axes>"
      ]
     },
     "metadata": {},
     "output_type": "display_data"
    }
   ],
   "source": [
    "###### should use the same data as generated earlier, rather than re-generate new data ######\n",
    "# N = 100\n",
    "# x = np.random.uniform(-1, 1, N)\n",
    "# c0 = 1\n",
    "# c1 = 2\n",
    "# c2 = 10\n",
    "# error = 2*np.random.randn(N)\n",
    "# y = c0 + c1*x + c2*x**2+error\n",
    "\n",
    "# Plot the scatter plot\n",
    "plt.scatter(x, y, s=2, label='Data')\n",
    "\n",
    "# Plot the line y = c0 + c1*x\n",
    "c0 = result.x[-3]\n",
    "c1 = result.x[-2]\n",
    "c2 = result.x[-1]\n",
    "\n",
    "print(f\"solution by linprog:\\nc0={c0}, c1={c1}, c2={c2}\\n\")\n",
    "\n",
    "x_range = np.linspace(-1, 1, 100)  # Define the range of x values\n",
    "y_line = c0 + c1*x_range + c2*x_range**2 # Compute the corresponding y values\n",
    "plt.plot(x_range, y_line, color='red', label='Fitted Line')\n",
    "\n",
    "# Add labels to the axes\n",
    "plt.xlabel('X-axis')\n",
    "plt.ylabel('Y-axis')\n",
    "\n",
    "# Add a title to the plot\n",
    "plt.title('L1-Linear Regression')\n",
    "\n",
    "# Add a legend\n",
    "plt.legend()\n",
    "\n",
    "# Display the plot\n",
    "plt.grid(True)\n",
    "plt.show()"
   ]
  },
  {
   "cell_type": "markdown",
   "id": "d0231a4c",
   "metadata": {},
   "source": [
    "Compare solution by *ortools*"
   ]
  },
  {
   "cell_type": "code",
   "execution_count": 27,
   "id": "3dc5bdcc",
   "metadata": {},
   "outputs": [
    {
     "name": "stdout",
     "output_type": "stream",
     "text": [
      "solution by ortools:\n",
      "c0=0.8531061311988913, c1=2.1419113966159027, c2=10.560342518244726\n",
      "\n"
     ]
    }
   ],
   "source": [
    "from ortools.linear_solver import pywraplp\n",
    "\n",
    "solver = pywraplp.Solver.CreateSolver('GLOP')\n",
    "\n",
    "# name and declare variables, 'z1','z2','z3',... 'c2','c1','c0',\n",
    "zs = ['z'+str(j) for j in range(1,N+1)]\n",
    "zs.extend(['c2','c1','c0'])\n",
    "\n",
    "# 'z1','z2','z3',... nonnegative\n",
    "vars = [solver.NumVar(0, solver.infinity(), z) for z in zs[:-3]]\n",
    "# 'c2','c1','c0' have range in R\n",
    "vars.extend([solver.NumVar(-solver.infinity(), solver.infinity(), z) for z in zs[-3:]])\n",
    "\n",
    "# constraints, one per inequality (equality)\n",
    "constraints = []\n",
    "for i, _ in enumerate(b):\n",
    "    constraints.append(solver.Constraint(-solver.infinity(),b[i,0]))\n",
    "    for j, _ in enumerate(B[i]):\n",
    "        constraints[i].SetCoefficient(vars[j], B[i,j])\n",
    "\n",
    "# objective: min\n",
    "objective = solver.Objective()\n",
    "for j, _ in enumerate(obj):\n",
    "    objective.SetCoefficient(vars[j], obj[j])\n",
    "objective.SetMinimization()\n",
    "\n",
    "status = solver.Solve()\n",
    "\n",
    "c0_bar = vars[-3].solution_value()\n",
    "c1_bar = vars[-2].solution_value()\n",
    "c2_bar = vars[-1].solution_value()\n",
    "\n",
    "print(f\"solution by ortools:\\nc0={c0_bar}, c1={c1_bar}, c2={c2_bar}\\n\")\n"
   ]
  },
  {
   "cell_type": "markdown",
   "id": "53336be7-e770-4fc0-ad50-634d7aabd138",
   "metadata": {},
   "source": [
    "## Least Squares (L2 Regression)\n",
    "\n",
    "Consider points $(x_0,y_0),\\dots,(x_{N-1})$. Find $c_0$ and $c_1$ minimimize\n",
    "\n",
    "$$\n",
    "\\sum_{n=0}^{N-1} | y_n - (c_0 + c_1 x_n) |^2 = \\| \\mathbf{y} - A \\mathbf{c} \\|^2_2\n",
    "$$\n",
    "\n",
    "Coefficients are given by the solution of the normal equations $A^T A \\mathbf{c} = A^T \\mathbf{y}$ where\n",
    "\n",
    "$$\n",
    "A = \\begin{bmatrix} 1 & x_0 \\\\ 1 & x_1 \\\\ \\vdots & \\vdots \\\\ 1 & x_{N-1}\\end{bmatrix}\n",
    "\\hspace{10mm}\n",
    "\\mathbf{c} = \\begin{bmatrix} c_0 \\\\ c_1 \\end{bmatrix}\n",
    "$$"
   ]
  },
  {
   "cell_type": "markdown",
   "id": "285df378-968c-4eef-b7e6-0607a43c338c",
   "metadata": {},
   "source": [
    "To perform L2 regression for the given problem, we need to minimize the sum of squared errors instead of the absolute errors. We can rewrite the objective function as follows:\n",
    "\n",
    "$$\n",
    "\\min_{c_2, c_1, c_0 \\in \\mathbb{R}} \\frac{1}{n} \\sum_{i=1}^{n} (y_i - f(x_i))^2\n",
    "$$\n",
    "\n",
    "Where $$ f(x) = c_2x^2 + c_1x + c_0 $$."
   ]
  },
  {
   "cell_type": "markdown",
   "id": "a54906a6",
   "metadata": {},
   "source": [
    "### Examples\n",
    "\n",
    "Suppose we want to fit a curve of the form,\n",
    "\n",
    "$$\n",
    "x+c\n",
    "$$\n",
    "\n",
    "i.e. the slope is known, but the constant $c$ is not. The data we have are $(0,0)$, $(10,11)$.\n",
    "\n",
    "Then the L1 optimization is:\n",
    "\n",
    "$$\n",
    "minimize \\, | c | + | c-1 | \\, over\\, c \\in \\mathbb{R}\n",
    "$$\n",
    "\n",
    "The objective is strictly greater than 1 whenever $c<0$ or $c>1$. In the range $0 \\leqslant c \\leqslant 1$, the objective is always $1$. Hence any value between $[0,1]$ is a solution for $c$. Not unique!"
   ]
  },
  {
   "cell_type": "markdown",
   "id": "b83eb3c8-d986-464a-87a4-ce238f32f9b4",
   "metadata": {},
   "source": []
  },
  {
   "cell_type": "code",
   "execution_count": null,
   "id": "2d41dc02-8db2-4216-9dda-be43b57e207a",
   "metadata": {},
   "outputs": [],
   "source": []
  }
 ],
 "metadata": {
  "kernelspec": {
   "display_name": "Python 3 (ipykernel)",
   "language": "python",
   "name": "python3"
  },
  "language_info": {
   "codemirror_mode": {
    "name": "ipython",
    "version": 3
   },
   "file_extension": ".py",
   "mimetype": "text/x-python",
   "name": "python",
   "nbconvert_exporter": "python",
   "pygments_lexer": "ipython3",
   "version": "3.11.6"
  }
 },
 "nbformat": 4,
 "nbformat_minor": 5
}
