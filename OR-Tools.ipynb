{
 "cells": [
  {
   "cell_type": "markdown",
   "metadata": {},
   "source": [
    "## Using Google OR-Tools to Solve Optimization Problems"
   ]
  },
  {
   "cell_type": "markdown",
   "metadata": {},
   "source": [
    "OR-Tools is a collection of tools developed by Google for optimization problems, including linear programming, mixed-integer programming, and constraint programming.\n",
    "\n",
    "The first step is to install the OR-Tools package. It will produce a list of all items installed."
   ]
  },
  {
   "cell_type": "code",
   "execution_count": 3,
   "metadata": {},
   "outputs": [
    {
     "name": "stdout",
     "output_type": "stream",
     "text": [
      "\u001b[33mWARNING: Skipping /opt/conda/lib/python3.11/site-packages/nlopt-2.7.1.dist-info due to invalid metadata entry 'name'\u001b[0m\u001b[33m\n",
      "\u001b[0mCollecting ortools\n",
      "  Using cached ortools-9.8.3296-cp311-cp311-manylinux_2_17_x86_64.manylinux2014_x86_64.whl.metadata (2.8 kB)\n",
      "Collecting absl-py>=2.0.0 (from ortools)\n",
      "  Using cached absl_py-2.1.0-py3-none-any.whl.metadata (2.3 kB)\n",
      "Requirement already satisfied: numpy>=1.13.3 in /opt/conda/lib/python3.11/site-packages (from ortools) (1.26.2)\n",
      "Requirement already satisfied: pandas>=2.0.0 in /opt/conda/lib/python3.11/site-packages (from ortools) (2.1.4)\n",
      "Collecting protobuf>=4.25.0 (from ortools)\n",
      "  Downloading protobuf-4.25.3-cp37-abi3-manylinux2014_x86_64.whl.metadata (541 bytes)\n",
      "Requirement already satisfied: python-dateutil>=2.8.2 in /opt/conda/lib/python3.11/site-packages (from pandas>=2.0.0->ortools) (2.8.2)\n",
      "Requirement already satisfied: pytz>=2020.1 in /opt/conda/lib/python3.11/site-packages (from pandas>=2.0.0->ortools) (2023.3.post1)\n",
      "Requirement already satisfied: tzdata>=2022.1 in /opt/conda/lib/python3.11/site-packages (from pandas>=2.0.0->ortools) (2023.3)\n",
      "Requirement already satisfied: six>=1.5 in /opt/conda/lib/python3.11/site-packages (from python-dateutil>=2.8.2->pandas>=2.0.0->ortools) (1.16.0)\n",
      "Using cached ortools-9.8.3296-cp311-cp311-manylinux_2_17_x86_64.manylinux2014_x86_64.whl (22.9 MB)\n",
      "Using cached absl_py-2.1.0-py3-none-any.whl (133 kB)\n",
      "Downloading protobuf-4.25.3-cp37-abi3-manylinux2014_x86_64.whl (294 kB)\n",
      "\u001b[2K   \u001b[90m━━━━━━━━━━━━━━━━━━━━━━━━━━━━━━━━━━━━━━━━\u001b[0m \u001b[32m294.6/294.6 kB\u001b[0m \u001b[31m4.3 MB/s\u001b[0m eta \u001b[36m0:00:00\u001b[0mta \u001b[36m0:00:01\u001b[0m\n",
      "\u001b[?25h\u001b[33mWARNING: Skipping /opt/conda/lib/python3.11/site-packages/nlopt-2.7.1.dist-info due to invalid metadata entry 'name'\u001b[0m\u001b[33m\n",
      "\u001b[0mInstalling collected packages: protobuf, absl-py, ortools\n",
      "  Attempting uninstall: protobuf\n",
      "\u001b[33m    WARNING: Skipping /opt/conda/lib/python3.11/site-packages/nlopt-2.7.1.dist-info due to invalid metadata entry 'name'\u001b[0m\u001b[33m\n",
      "\u001b[0m    Found existing installation: protobuf 4.24.4\n",
      "    Uninstalling protobuf-4.24.4:\n",
      "      Successfully uninstalled protobuf-4.24.4\n",
      "Successfully installed absl-py-2.1.0 ortools-9.8.3296 protobuf-4.25.3\n"
     ]
    }
   ],
   "source": [
    "! pip install ortools"
   ]
  },
  {
   "cell_type": "markdown",
   "metadata": {},
   "source": [
    "Let us also import numpy, it will be useful."
   ]
  },
  {
   "cell_type": "code",
   "execution_count": 4,
   "metadata": {},
   "outputs": [],
   "source": [
    "import numpy as np"
   ]
  },
  {
   "cell_type": "markdown",
   "metadata": {},
   "source": [
    "## Importing Modules\n",
    "\n",
    "There are various different modules for optimization problems in OR-Tools. Each module is designed to address specific types of optimization problems and provides algorithms and tools tailored to those problems. Some of the most commonly used ones are:\n",
    "\n",
    "1. **ortools.constraint_solver**: This module provides functionalities for solving constraint satisfaction problems, which involve finding solutions that satisfy a set of constraints.\n",
    "\n",
    "2. **ortools.graph**: This module offers algorithms and data structures for solving graph-related problems, such as finding shortest paths, minimum spanning trees, and maximum flow problems.\n",
    "  \n",
    "3. **ortools.linear_solver**: This module provides functionality for solving linear programming problems.\n",
    "\n",
    "The full list can be found in [the OR-Tools Python Reference](https://developers.google.com/optimization/reference/python/index_python)."
   ]
  },
  {
   "cell_type": "markdown",
   "metadata": {},
   "source": [
    "Let us work with **pywraplp** component from the **ortools.linear_solver** module. The pywraplp component provides classes and methods for constructing linear programming models, defining variables and constraints, setting objective functions, and solving the resulting optimization problems."
   ]
  },
  {
   "cell_type": "code",
   "execution_count": 5,
   "metadata": {},
   "outputs": [],
   "source": [
    "from ortools.linear_solver import pywraplp"
   ]
  },
  {
   "cell_type": "markdown",
   "metadata": {},
   "source": [
    "We can check what has been imported by calling **pywraplp.__dir__()**. "
   ]
  },
  {
   "cell_type": "markdown",
   "metadata": {},
   "source": [
    "Note that the most useful classes here are **\"Objective\", \"Constraint\", \"Variable\",** and **\"Solver\"**"
   ]
  },
  {
   "cell_type": "markdown",
   "metadata": {},
   "source": [
    "## Creating a 'GLOP' solver\n",
    "\n",
    "GLOP (Google Linear Optimization Package) is Google's linear programming solver. It uses the simplex algorithm to solve linear programming problems. There are other solver libraries that may be used for different \n",
    "\n",
    "1. **CBC**: The Coin-OR branch and cut (CBC) solver is an open-source linear programming solver that uses a combination of branch-and-bound and cutting plane methods.\n",
    "\n",
    "2. **CLP**: The Coin-OR linear programming (CLP) solver is linear programming solver from the Coin-OR project. It also uses the simplex algorithm.\n",
    "\n",
    "3. **SCIP**: SCIP (Solving Constraint Integer Programs) is a mixed-integer programming solver. While primarily designed for mixed-integer programming, it can also handle linear programming problems.\n",
    "\n",
    "4. **Gurobi**: Gurobi is a commercial optimization solver known for its performance on linear programming and mixed-integer programming problems. It may be integrated with OR-Tools if you have access to a Gurobi license.\n",
    "\n",
    "5. **CPLEX**: IBM's CPLEX Optimizer is another commercial optimization solver widely used for linear programming and mixed-integer programming. Similar to Gurobi, it may be integrated with OR-Tools if you have access to a CPLEX license.\n",
    "\n",
    "We will be using this to solve all of our optimization problems. "
   ]
  },
  {
   "cell_type": "code",
   "execution_count": 6,
   "metadata": {},
   "outputs": [],
   "source": [
    "solver = pywraplp.Solver.CreateSolver(\"GLOP\")"
   ]
  },
  {
   "cell_type": "markdown",
   "metadata": {},
   "source": [
    "We can also check what is in the **GLOP solver**, by calling **solver.__dir__()**"
   ]
  },
  {
   "cell_type": "markdown",
   "metadata": {},
   "source": [
    "We note the most useful methods here to be **\"Objective\", \"NumVar\", \"Constraint\", \"NumConstraints\",\"Add\",\"Minimize\",\"Maximize\", \"LookupVariable\",** and **\"LookupConstraint\"**."
   ]
  },
  {
   "cell_type": "markdown",
   "metadata": {},
   "source": [
    "## Example 1\n",
    "\n",
    "Now we have all the tools necessary to begin working with an example. Consider the linear programming problem [given as an example by google](https://developers.google.com/optimization/lp/lp_example):\n",
    "\n",
    "$$ \\text{max } 3x+4y$$\n",
    "$$x+2y \\leqslant 14$$\n",
    "$$3x-y \\geqslant 0$$\n",
    "$$x-y \\leqslant 2$$"
   ]
  },
  {
   "cell_type": "markdown",
   "metadata": {},
   "source": [
    "## Creating Variables\n",
    "\n",
    "Let us create the variables"
   ]
  },
  {
   "cell_type": "code",
   "execution_count": 7,
   "metadata": {},
   "outputs": [],
   "source": [
    "x = solver.NumVar(-solver.infinity(), solver.infinity(), \"x\") \n",
    "y = solver.NumVar(-solver.infinity(), solver.infinity(), \"y\")"
   ]
  },
  {
   "cell_type": "markdown",
   "metadata": {},
   "source": [
    "We can check variable bounds"
   ]
  },
  {
   "cell_type": "code",
   "execution_count": 8,
   "metadata": {},
   "outputs": [
    {
     "name": "stdout",
     "output_type": "stream",
     "text": [
      "lower and upper bounds of x: -inf, inf\n",
      "lower and upper bounds of y: -inf, inf\n"
     ]
    }
   ],
   "source": [
    "print(f\"lower and upper bounds of x: {x.lb()}, {x.ub()}\")\n",
    "print(f\"lower and upper bounds of y: {y.lb()}, {y.ub()}\")"
   ]
  },
  {
   "cell_type": "markdown",
   "metadata": {},
   "source": [
    "Let us also check what we functions we can call on a variable, by calling **x.__dir__()**. We note useful variable methods **\"lb\",\"ub\",\"SetBounds\"**, and **\"solution_value\"**."
   ]
  },
  {
   "cell_type": "markdown",
   "metadata": {},
   "source": [
    "## Constraints \n",
    "\n",
    "We can now add constraints. We use variable objects as if they are numbers."
   ]
  },
  {
   "cell_type": "code",
   "execution_count": 9,
   "metadata": {},
   "outputs": [
    {
     "data": {
      "text/plain": [
       "<ortools.linear_solver.pywraplp.Constraint; proxy of <Swig Object of type 'operations_research::MPConstraint *' at 0x7f4fbedaf5a0> >"
      ]
     },
     "execution_count": 9,
     "metadata": {},
     "output_type": "execute_result"
    }
   ],
   "source": [
    "solver.Add(x + 2 * y <= 14.0)\n",
    "\n",
    "solver.Add(3 * x - y >= 0.0)\n",
    "\n",
    "solver.Add(x - y <= 2.0)"
   ]
  },
  {
   "cell_type": "markdown",
   "metadata": {},
   "source": [
    "## Objective Function\n",
    "\n",
    "Finally, we define an objective function."
   ]
  },
  {
   "cell_type": "code",
   "execution_count": 10,
   "metadata": {},
   "outputs": [],
   "source": [
    "objective = solver.Maximize(3 * x + 4 * y)"
   ]
  },
  {
   "cell_type": "markdown",
   "metadata": {},
   "source": [
    "## Starting the Solver\n",
    "\n",
    "After constructing a linear programming model by defining variables, constraints, and the objective function, we are ready to use `solver.Solve()`. `solver.Solve()` is the method used to solve the optimization problem. It applies the simplex method, as we are using a **GLOP** solver in this case.\n",
    "\n",
    "It returns a status indicating whether a solution was found and, if so, the quality of that solution (e.g., optimal, feasible, infeasible, unbounded)."
   ]
  },
  {
   "cell_type": "code",
   "execution_count": 11,
   "metadata": {},
   "outputs": [],
   "source": [
    "status = solver.Solve()"
   ]
  },
  {
   "cell_type": "markdown",
   "metadata": {},
   "source": [
    "## Checking the Solution\n",
    "\n",
    "We can check if our solution is optimal by using **pywraplp.Solver.OPTIMAL** against **status**.\n",
    "\n",
    "To check the Optial value, we use **solver.Objective().Value():.0f**. To adjust the decimal precision, change **.0f** part to as many decimal places as you wish."
   ]
  },
  {
   "cell_type": "code",
   "execution_count": 12,
   "metadata": {},
   "outputs": [
    {
     "name": "stdout",
     "output_type": "stream",
     "text": [
      "Optimal solution is: x=6, y=4\n",
      "Optimal value is: 34\n"
     ]
    }
   ],
   "source": [
    "if status == pywraplp.Solver.OPTIMAL:\n",
    "    print(f\"Optimal solution is: x={x.solution_value():.0f}, y={y.solution_value():.0f}\")\n",
    "    print(f\"Optimal value is: {solver.Objective().Value():.0f}\")"
   ]
  },
  {
   "cell_type": "markdown",
   "metadata": {},
   "source": [
    "## Using Matrix Notation\n",
    "\n",
    "Let us see a simple example using matrix notation:\n",
    "\n",
    "$$ \\text{max } x_1 + 2x_2$$\n",
    "$$ 2x_1 + 3x_2 \\leqslant 6 $$\n",
    "$$ -4x_1 + x_2 \\leqslant 10 $$\n",
    "\n",
    "After a little bit of guess and check, we can see that the optimal solution is $x_1 = 0, x_2 = 2$, and the optimal value is then $4$. \n",
    "\n",
    "We follow a very similar procedure, writing it all in one function:"
   ]
  },
  {
   "cell_type": "code",
   "execution_count": 15,
   "metadata": {},
   "outputs": [
    {
     "name": "stdout",
     "output_type": "stream",
     "text": [
      "x1 : 3.0\n",
      "x2 : 0.0\n",
      "\n",
      "Optimal value: 2.8\n"
     ]
    }
   ],
   "source": [
    "from ortools.linear_solver import pywraplp\n",
    "\n",
    "# Define the function \n",
    "def Solver2():\n",
    "    obj = [1,2]\n",
    "\n",
    "    A = [\n",
    "        [2,3],\n",
    "        [-4,1]\n",
    "    ]\n",
    "\n",
    "    b = [6,10]\n",
    "\n",
    "    #Create a GLOP solver\n",
    "    solver = pywraplp.Solver.CreateSolver('GLOP')\n",
    "    if not solver:\n",
    "        return\n",
    "    \n",
    "    # define our variables\n",
    "    xs = ['x1','x2']\n",
    "    vars = [solver.NumVar(0.0, solver.infinity(), x) for x in xs]\n",
    "\n",
    "    # constraints, one per inequality (equality)\n",
    "    constraints = []\n",
    "    for i, b in enumerate(b):\n",
    "        constraints.append(solver.Constraint(-solver.infinity(),b))\n",
    "        for j, d in enumerate(A[i]):\n",
    "            constraints[i].SetCoefficient(vars[j], d)\n",
    "\n",
    "    # objective: maximization - so SetMaximization\n",
    "    objective = solver.Objective()\n",
    "    for j, d in enumerate(obj):\n",
    "        objective.SetCoefficient(vars[j], d)\n",
    "    objective.SetMaximization()\n",
    "\n",
    "    status = solver.Solve()\n",
    "\n",
    "    # Check that the problem has an optimal solution\n",
    "    if status != solver.OPTIMAL:\n",
    "        print('The problem does not have an optimal solution!')\n",
    "        if status == solver.FEASIBLE:\n",
    "            print('A potentially suboptimal solution was found.')\n",
    "        else:\n",
    "            print('The solver could not solve the problem.')\n",
    "            exit(1)\n",
    "\n",
    "    # Display solution\n",
    "    solution = [0] * len(obj)\n",
    "    for i, var in enumerate(vars):\n",
    "        print(f'{xs[i]} : {var.solution_value():.1f}')\n",
    "    print(f'\\nOptimal value: {objective.Value():.1f}')\n",
    "\n",
    "Solver2()"
   ]
  },
  {
   "cell_type": "markdown",
   "metadata": {},
   "source": [
    "Let us look at a larger problem. In this problem, let us randomly generate some data for the objective function and the constraints. For the $A$-Matrix, let us keep it just and ones. Let us see how this works:"
   ]
  },
  {
   "cell_type": "code",
   "execution_count": 25,
   "metadata": {},
   "outputs": [
    {
     "name": "stdout",
     "output_type": "stream",
     "text": [
      "x0 : 0.0\n",
      "x1 : 0.0\n",
      "x2 : 0.0\n",
      "x3 : 0.0\n",
      "x4 : 0.0\n",
      "x5 : 0.0\n",
      "x6 : 0.0\n",
      "x7 : 0.0\n",
      "x8 : 0.0\n",
      "x9 : 0.0\n",
      "x10 : 0.0\n",
      "x11 : 0.0\n",
      "x12 : 0.0\n",
      "x13 : 0.0\n",
      "x14 : 0.0\n",
      "x15 : 0.0\n",
      "x16 : 0.0\n",
      "x17 : 0.0\n",
      "x18 : 0.0\n",
      "x19 : 0.0\n",
      "x20 : 0.0\n",
      "x21 : 0.0\n",
      "x22 : 0.0\n",
      "x23 : 0.0\n",
      "x24 : 0.0\n",
      "x25 : 0.0\n",
      "x26 : 0.0\n",
      "x27 : 0.0\n",
      "x28 : 0.0\n",
      "x29 : 0.0\n",
      "x30 : 1.0\n",
      "x31 : 0.0\n",
      "x32 : 0.0\n",
      "x33 : 0.0\n",
      "x34 : 0.0\n",
      "x35 : 0.0\n",
      "x36 : 0.0\n",
      "x37 : 0.0\n",
      "x38 : 0.0\n",
      "x39 : 0.0\n",
      "x40 : 0.0\n",
      "x41 : 0.0\n",
      "x42 : 0.0\n",
      "x43 : 0.0\n",
      "x44 : 0.0\n",
      "x45 : 0.0\n",
      "x46 : 0.0\n",
      "x47 : 0.0\n",
      "x48 : 0.0\n",
      "x49 : 0.0\n",
      "x50 : 0.0\n",
      "x51 : 0.0\n",
      "x52 : 0.0\n",
      "x53 : 0.0\n",
      "x54 : 0.0\n",
      "x55 : 0.0\n",
      "x56 : 0.0\n",
      "x57 : 0.0\n",
      "x58 : 0.0\n",
      "x59 : 0.0\n",
      "x60 : 0.0\n",
      "x61 : 0.0\n",
      "x62 : 0.0\n",
      "x63 : 0.0\n",
      "x64 : 0.0\n",
      "x65 : 0.0\n",
      "x66 : 0.0\n",
      "x67 : 0.0\n",
      "x68 : 0.0\n",
      "x69 : 0.0\n",
      "x70 : 0.0\n",
      "x71 : 0.0\n",
      "x72 : 0.0\n",
      "x73 : 0.0\n",
      "x74 : 0.0\n",
      "x75 : 0.0\n",
      "x76 : 0.0\n",
      "x77 : 0.0\n",
      "x78 : 0.0\n",
      "x79 : 0.0\n",
      "x80 : 0.0\n",
      "x81 : 0.0\n",
      "x82 : 0.0\n",
      "x83 : 0.0\n",
      "x84 : 0.0\n",
      "x85 : 0.0\n",
      "x86 : 0.0\n",
      "x87 : 0.0\n",
      "x88 : 0.0\n",
      "x89 : 0.0\n",
      "x90 : 0.0\n",
      "x91 : 0.0\n",
      "x92 : 0.0\n",
      "x93 : 0.0\n",
      "x94 : 0.0\n",
      "x95 : 0.0\n",
      "x96 : 0.0\n",
      "x97 : 0.0\n",
      "x98 : 0.0\n",
      "x99 : 0.0\n",
      "\n",
      "Optimal value: 1.0\n"
     ]
    }
   ],
   "source": [
    "from ortools.linear_solver import pywraplp\n",
    "\n",
    "# Define the function \n",
    "def Solver3():\n",
    "    obj = np.random.rand(100)\n",
    "\n",
    "    A = np.ones((100, 100))\n",
    "\n",
    "    b = np.random.rand(100)+1\n",
    "\n",
    "    #Create a GLOP solver\n",
    "    solver = pywraplp.Solver.CreateSolver('GLOP')\n",
    "    if not solver:\n",
    "        return\n",
    "    \n",
    "    # define our variables\n",
    "    xs = []\n",
    "    i=0\n",
    "    for n in obj:\n",
    "        xs.append('x'+str(i))\n",
    "        i = i+1\n",
    "    vars = [solver.NumVar(0.0, solver.infinity(), x) for x in xs]\n",
    "\n",
    "    # constraints, one per inequality (equality)\n",
    "    constraints = []\n",
    "    for i, b in enumerate(b):\n",
    "        constraints.append(solver.Constraint(-solver.infinity(),b))\n",
    "        for j, d in enumerate(A[i]):\n",
    "            constraints[i].SetCoefficient(vars[j], d)\n",
    "\n",
    "    # objective: maximization - so SetMaximization\n",
    "    objective = solver.Objective()\n",
    "    for j, d in enumerate(obj):\n",
    "        objective.SetCoefficient(vars[j], d)\n",
    "    objective.SetMaximization()\n",
    "\n",
    "    status = solver.Solve()\n",
    "\n",
    "    # Check that the problem has an optimal solution\n",
    "    if status != solver.OPTIMAL:\n",
    "        print('The problem does not have an optimal solution!')\n",
    "        if status == solver.FEASIBLE:\n",
    "            print('A potentially suboptimal solution was found.')\n",
    "        else:\n",
    "            print('The solver could not solve the problem.')\n",
    "            exit(1)\n",
    "\n",
    "    # Display solution\n",
    "    solution = [0] * len(obj)\n",
    "    for i, var in enumerate(vars):\n",
    "        print(f'{xs[i]} : {var.solution_value():.1f}')\n",
    "    print(f'\\nOptimal value: {objective.Value():.1f}')\n",
    "\n",
    "Solver3()"
   ]
  },
  {
   "cell_type": "markdown",
   "metadata": {},
   "source": [
    "So, we can see here that even for large data sets, the computation can be carries out very efficently. This technique can be adapted and applied to all sorts of linear programming problems."
   ]
  },
  {
   "cell_type": "code",
   "execution_count": null,
   "metadata": {},
   "outputs": [],
   "source": []
  }
 ],
 "metadata": {
  "kernelspec": {
   "display_name": "Python 3 (ipykernel)",
   "language": "python",
   "name": "python3"
  },
  "language_info": {
   "codemirror_mode": {
    "name": "ipython",
    "version": 3
   },
   "file_extension": ".py",
   "mimetype": "text/x-python",
   "name": "python",
   "nbconvert_exporter": "python",
   "pygments_lexer": "ipython3",
   "version": "3.11.6"
  }
 },
 "nbformat": 4,
 "nbformat_minor": 4
}
